{
 "cells": [
  {
   "cell_type": "code",
   "execution_count": 1,
   "metadata": {},
   "outputs": [],
   "source": [
    "import ipyvolume as ipv\n",
    "import numpy as np\n",
    "from matplotlib import cm\n",
    "# X = np.arange(-5, 5, 0.25*1)\n",
    "# Y = np.arange(-5, 5, 0.25*1)\n",
    "# X, Y = np.meshgrid(X, Y)\n",
    "# R = np.sqrt(X**2 + Y**2)\n",
    "# Z = np.sin(R)\n",
    "# colormap = cm.coolwarm\n",
    "# znorm = Z - Z.min()\n",
    "# znorm /= znorm.ptp()\n",
    "# znorm.min(), znorm.max()\n",
    "# color = colormap(znorm)"
   ]
  },
  {
   "cell_type": "code",
   "execution_count": 2,
   "metadata": {},
   "outputs": [],
   "source": [
    "# ipv.figure( key=None,\n",
    "#             width=600,\n",
    "#             height=600,\n",
    "#             lighting=True,\n",
    "#             controls=True,\n",
    "#             controls_vr=False,\n",
    "#             controls_light=False,\n",
    "#             debug=False)\n",
    "# mesh = ipv.plot_surface(X, Z, Y)#, color=color[...,:3])\n",
    "# ipv.style.box_off()\n",
    "# ipv.xyzlabel('a','b','c')\n",
    "# ipv.show()"
   ]
  },
  {
   "cell_type": "code",
   "execution_count": 3,
   "metadata": {},
   "outputs": [],
   "source": [
    "# ipv.figure??"
   ]
  },
  {
   "cell_type": "markdown",
   "metadata": {},
   "source": [
    "---"
   ]
  },
  {
   "cell_type": "code",
   "execution_count": 20,
   "metadata": {},
   "outputs": [],
   "source": [
    "import matplotlib.pyplot as plt"
   ]
  },
  {
   "cell_type": "code",
   "execution_count": 24,
   "metadata": {},
   "outputs": [],
   "source": [
    "original_w = 0.9\n",
    "original_b = 2.0\n",
    "n_trials = 30\n",
    "x = np.random.uniform(0.0,10.0,size=n_trials)\n",
    "y = (original_w * x + original_b) + np.random.normal(0.0,3.0,size=n_trials)"
   ]
  },
  {
   "cell_type": "code",
   "execution_count": 25,
   "metadata": {},
   "outputs": [
    {
     "data": {
      "text/plain": [
       "[<matplotlib.lines.Line2D at 0x11f9f7fd0>]"
      ]
     },
     "execution_count": 25,
     "metadata": {},
     "output_type": "execute_result"
    },
    {
     "data": {
      "image/png": "[encoded data removed]",
      "text/plain": [
       "<Figure size 432x288 with 1 Axes>"
      ]
     },
     "metadata": {
      "needs_background": "light"
     },
     "output_type": "display_data"
    }
   ],
   "source": [
    "plt.plot(x,y,'.')"
   ]
  },
  {
   "cell_type": "code",
   "execution_count": 26,
   "metadata": {},
   "outputs": [],
   "source": [
    "# plotting the line\n",
    "w = np.random.randn()\n",
    "b = np.random.randn()\n",
    "min_x, max_x = 0.0, 10.0\n",
    "min_x_y = w * min_x + b\n",
    "max_x_y = w * max_x + b"
   ]
  },
  {
   "cell_type": "code",
   "execution_count": 27,
   "metadata": {},
   "outputs": [
    {
     "data": {
      "image/png": "[encoded data removed]",
      "text/plain": [
       "<Figure size 720x432 with 1 Axes>"
      ]
     },
     "metadata": {
      "needs_background": "light"
     },
     "output_type": "display_data"
    }
   ],
   "source": [
    "plt.figure(None, (10,6))\n",
    "plt.plot(x,y,'.')\n",
    "plt.plot([min_x, max_x],[min_x_y, max_x_y])\n",
    "plt.show()"
   ]
  },
  {
   "cell_type": "code",
   "execution_count": 28,
   "metadata": {},
   "outputs": [],
   "source": [
    "def evaluate(data_x, data_y, w, b):\n",
    "    pred_y = data_x * w + b\n",
    "    error = np.sqrt(np.square(pred_y - data_y).sum())\n",
    "    return error"
   ]
  },
  {
   "cell_type": "code",
   "execution_count": 60,
   "metadata": {},
   "outputs": [
    {
     "data": {
      "application/vnd.jupyter.widget-view+json": {
       "model_id": "f85e65e1f75c475ba21b9083c0d68ffd",
       "version_major": 2,
       "version_minor": 0
      },
      "text/plain": [
       "Output()"
      ]
     },
     "metadata": {},
     "output_type": "display_data"
    },
    {
     "data": {
      "application/vnd.jupyter.widget-view+json": {
       "model_id": "668ff8616dca4f2aaaf3977a3e225b0c",
       "version_major": 2,
       "version_minor": 0
      },
      "text/plain": [
       "VBox(children=(Figure(camera=PerspectiveCamera(fov=46.0, position=(0.0, 0.0, 2.0), quaternion=(0.0, 0.0, 0.0, …"
      ]
     },
     "metadata": {},
     "output_type": "display_data"
    }
   ],
   "source": [
    "n_trials = 1000\n",
    "history = np.zeros([n_trials, 3])\n",
    "for trial_i in range(n_trials):\n",
    "    w = np.random.randn() * 5\n",
    "    b = np.random.randn() * 5\n",
    "    err = evaluate(x, y, w, b)\n",
    "    history[trial_i] = [w,b,err]\n",
    "\n",
    "W,B,LOSS = history[:,0], history[:,1], history[:,2]\n",
    "ipv.figure( key=None,\n",
    "            width=600,\n",
    "            height=600,\n",
    "            lighting=True,\n",
    "            controls=True,\n",
    "            controls_vr=False,\n",
    "            controls_light=False,\n",
    "            debug=False)\n",
    "# ipv.plot(X,Y,Z,color='green',marker='.')\n",
    "ipv.scatter(W,LOSS,B, marker=\"sphere\", size=1, size_selected=3,)\n",
    "ipv.selector_default()\n",
    "ipv.style.box_off()\n",
    "ipv.xyzlabel('w','loss','b')\n",
    "ipv.show()"
   ]
  },
  {
   "cell_type": "code",
   "execution_count": 63,
   "metadata": {},
   "outputs": [
    {
     "data": {
      "text/plain": [
       "871"
      ]
     },
     "execution_count": 63,
     "metadata": {},
     "output_type": "execute_result"
    }
   ],
   "source": [
    "i = ipv.current.figure.scatters[0].selected[0][0]\n",
    "i"
   ]
  },
  {
   "cell_type": "code",
   "execution_count": 64,
   "metadata": {},
   "outputs": [],
   "source": [
    "# i = LOSS.argmin()\n",
    "best_w, best_b = W[i], B[i]"
   ]
  },
  {
   "cell_type": "code",
   "execution_count": 65,
   "metadata": {},
   "outputs": [
    {
     "data": {
      "image/png": "[encoded data removed]",
      "text/plain": [
       "<Figure size 720x432 with 1 Axes>"
      ]
     },
     "metadata": {
      "needs_background": "light"
     },
     "output_type": "display_data"
    }
   ],
   "source": [
    "# plotting the line\n",
    "min_x, max_x = 0.0, 10.0\n",
    "min_x_y = best_w * min_x + best_b\n",
    "max_x_y = best_w * max_x + best_b\n",
    "\n",
    "plt.figure(None, (10,6))\n",
    "plt.plot(x,y,'.')\n",
    "plt.plot([min_x, max_x],[min_x_y, max_x_y])\n",
    "plt.show()"
   ]
  },
  {
   "cell_type": "code",
   "execution_count": null,
   "metadata": {},
   "outputs": [],
   "source": []
  },
  {
   "cell_type": "code",
   "execution_count": 66,
   "metadata": {},
   "outputs": [
    {
     "name": "stdout",
     "output_type": "stream",
     "text": [
      "Collecting nbinteract\n",
      "  Downloading https://files.pythonhosted.org/packages/ec/92/a7a426be88a22c77572608dba3cd21f245d1f7242722388376595a268ba4/nbinteract-0.2.4-py3-none-any.whl\n",
      "Collecting bqplot<1,>=0.10 (from nbinteract)\n",
      "  Using cached https://files.pythonhosted.org/packages/fa/f3/23782e291c4091c25d43dbd940350560e5749338aac5071b1ca7080c3942/bqplot-0.11.6-py2.py3-none-any.whl\n",
      "Requirement already satisfied: nbconvert<6,>=5.3 in /Users/maks/anaconda3/envs/b_opt/lib/python3.7/site-packages (from nbinteract) (5.5.0)\n",
      "Requirement already satisfied: traitlets<5,>=4.3 in /Users/maks/anaconda3/envs/b_opt/lib/python3.7/site-packages (from nbinteract) (4.3.2)\n",
      "Requirement already satisfied: ipywidgets<8,>=7 in /Users/maks/anaconda3/envs/b_opt/lib/python3.7/site-packages (from nbinteract) (7.5.0)\n",
      "Collecting docopt<1,>=0.6.2 (from nbinteract)\n",
      "Requirement already satisfied: IPython<8,>=6 in /Users/maks/anaconda3/envs/b_opt/lib/python3.7/site-packages (from nbinteract) (7.6.1)\n",
      "Requirement already satisfied: nbformat<5,>=4.4.0 in /Users/maks/anaconda3/envs/b_opt/lib/python3.7/site-packages (from nbinteract) (4.4.0)\n",
      "Requirement already satisfied: numpy<2,>=1 in /Users/maks/anaconda3/envs/b_opt/lib/python3.7/site-packages (from nbinteract) (1.16.4)\n",
      "Requirement already satisfied: Jinja2<3,>=2.10 in /Users/maks/anaconda3/envs/b_opt/lib/python3.7/site-packages (from nbinteract) (2.10.1)\n",
      "Requirement already satisfied: toolz<1,>=0.8 in /Users/maks/anaconda3/envs/b_opt/lib/python3.7/site-packages (from nbinteract) (0.10.0)\n",
      "Requirement already satisfied: traittypes>=0.0.6 in /Users/maks/anaconda3/envs/b_opt/lib/python3.7/site-packages (from bqplot<1,>=0.10->nbinteract) (0.2.1)\n",
      "Collecting pandas (from bqplot<1,>=0.10->nbinteract)\n",
      "  Using cached https://files.pythonhosted.org/packages/fc/43/fd867e3347559845c8f993059d410c50a1e18709f1c4d4b3b47323a06a37/pandas-0.24.2-cp37-cp37m-macosx_10_6_intel.macosx_10_9_intel.macosx_10_9_x86_64.macosx_10_10_intel.macosx_10_10_x86_64.whl\n",
      "Requirement already satisfied: pygments in /Users/maks/anaconda3/envs/b_opt/lib/python3.7/site-packages (from nbconvert<6,>=5.3->nbinteract) (2.4.2)\n",
      "Requirement already satisfied: entrypoints>=0.2.2 in /Users/maks/anaconda3/envs/b_opt/lib/python3.7/site-packages (from nbconvert<6,>=5.3->nbinteract) (0.3)\n",
      "Requirement already satisfied: bleach in /Users/maks/anaconda3/envs/b_opt/lib/python3.7/site-packages (from nbconvert<6,>=5.3->nbinteract) (3.1.0)\n",
      "Requirement already satisfied: jupyter-core in /Users/maks/anaconda3/envs/b_opt/lib/python3.7/site-packages (from nbconvert<6,>=5.3->nbinteract) (4.5.0)\n",
      "Requirement already satisfied: mistune>=0.8.1 in /Users/maks/anaconda3/envs/b_opt/lib/python3.7/site-packages (from nbconvert<6,>=5.3->nbinteract) (0.8.4)\n",
      "Requirement already satisfied: defusedxml in /Users/maks/anaconda3/envs/b_opt/lib/python3.7/site-packages (from nbconvert<6,>=5.3->nbinteract) (0.6.0)\n",
      "Requirement already satisfied: pandocfilters>=1.4.1 in /Users/maks/anaconda3/envs/b_opt/lib/python3.7/site-packages (from nbconvert<6,>=5.3->nbinteract) (1.4.2)\n",
      "Requirement already satisfied: testpath in /Users/maks/anaconda3/envs/b_opt/lib/python3.7/site-packages (from nbconvert<6,>=5.3->nbinteract) (0.4.2)\n",
      "Requirement already satisfied: ipython_genutils in /Users/maks/anaconda3/envs/b_opt/lib/python3.7/site-packages (from traitlets<5,>=4.3->nbinteract) (0.2.0)\n",
      "Requirement already satisfied: six in /Users/maks/anaconda3/envs/b_opt/lib/python3.7/site-packages (from traitlets<5,>=4.3->nbinteract) (1.12.0)\n",
      "Requirement already satisfied: decorator in /Users/maks/anaconda3/envs/b_opt/lib/python3.7/site-packages (from traitlets<5,>=4.3->nbinteract) (4.4.0)\n",
      "Requirement already satisfied: widgetsnbextension~=3.5.0 in /Users/maks/anaconda3/envs/b_opt/lib/python3.7/site-packages (from ipywidgets<8,>=7->nbinteract) (3.5.0)\n",
      "Requirement already satisfied: ipykernel>=4.5.1 in /Users/maks/anaconda3/envs/b_opt/lib/python3.7/site-packages (from ipywidgets<8,>=7->nbinteract) (5.1.1)\n",
      "Requirement already satisfied: appnope; sys_platform == \"darwin\" in /Users/maks/anaconda3/envs/b_opt/lib/python3.7/site-packages (from IPython<8,>=6->nbinteract) (0.1.0)\n",
      "Requirement already satisfied: setuptools>=18.5 in /Users/maks/anaconda3/envs/b_opt/lib/python3.7/site-packages (from IPython<8,>=6->nbinteract) (41.0.1)\n",
      "Requirement already satisfied: pexpect; sys_platform != \"win32\" in /Users/maks/anaconda3/envs/b_opt/lib/python3.7/site-packages (from IPython<8,>=6->nbinteract) (4.7.0)\n",
      "Requirement already satisfied: pickleshare in /Users/maks/anaconda3/envs/b_opt/lib/python3.7/site-packages (from IPython<8,>=6->nbinteract) (0.7.5)\n",
      "Requirement already satisfied: backcall in /Users/maks/anaconda3/envs/b_opt/lib/python3.7/site-packages (from IPython<8,>=6->nbinteract) (0.1.0)\n",
      "Requirement already satisfied: jedi>=0.10 in /Users/maks/anaconda3/envs/b_opt/lib/python3.7/site-packages (from IPython<8,>=6->nbinteract) (0.14.1)\n",
      "Requirement already satisfied: prompt-toolkit<2.1.0,>=2.0.0 in /Users/maks/anaconda3/envs/b_opt/lib/python3.7/site-packages (from IPython<8,>=6->nbinteract) (2.0.9)\n",
      "Requirement already satisfied: jsonschema!=2.5.0,>=2.4 in /Users/maks/anaconda3/envs/b_opt/lib/python3.7/site-packages (from nbformat<5,>=4.4.0->nbinteract) (3.0.1)\n",
      "Requirement already satisfied: MarkupSafe>=0.23 in /Users/maks/anaconda3/envs/b_opt/lib/python3.7/site-packages (from Jinja2<3,>=2.10->nbinteract) (1.1.1)\n",
      "Requirement already satisfied: python-dateutil>=2.5.0 in /Users/maks/anaconda3/envs/b_opt/lib/python3.7/site-packages (from pandas->bqplot<1,>=0.10->nbinteract) (2.8.0)\n",
      "Collecting pytz>=2011k (from pandas->bqplot<1,>=0.10->nbinteract)\n",
      "  Using cached https://files.pythonhosted.org/packages/3d/73/fe30c2daaaa0713420d0382b16fbb761409f532c56bdcc514bf7b6262bb6/pytz-2019.1-py2.py3-none-any.whl\n",
      "Requirement already satisfied: webencodings in /Users/maks/anaconda3/envs/b_opt/lib/python3.7/site-packages (from bleach->nbconvert<6,>=5.3->nbinteract) (0.5.1)\n",
      "Requirement already satisfied: notebook>=4.4.1 in /Users/maks/anaconda3/envs/b_opt/lib/python3.7/site-packages (from widgetsnbextension~=3.5.0->ipywidgets<8,>=7->nbinteract) (5.7.8)\n",
      "Requirement already satisfied: tornado>=4.2 in /Users/maks/anaconda3/envs/b_opt/lib/python3.7/site-packages (from ipykernel>=4.5.1->ipywidgets<8,>=7->nbinteract) (6.0.3)\n",
      "Requirement already satisfied: jupyter-client in /Users/maks/anaconda3/envs/b_opt/lib/python3.7/site-packages (from ipykernel>=4.5.1->ipywidgets<8,>=7->nbinteract) (5.3.1)\n",
      "Requirement already satisfied: ptyprocess>=0.5 in /Users/maks/anaconda3/envs/b_opt/lib/python3.7/site-packages (from pexpect; sys_platform != \"win32\"->IPython<8,>=6->nbinteract) (0.6.0)\n",
      "Requirement already satisfied: parso>=0.5.0 in /Users/maks/anaconda3/envs/b_opt/lib/python3.7/site-packages (from jedi>=0.10->IPython<8,>=6->nbinteract) (0.5.1)\n",
      "Requirement already satisfied: wcwidth in /Users/maks/anaconda3/envs/b_opt/lib/python3.7/site-packages (from prompt-toolkit<2.1.0,>=2.0.0->IPython<8,>=6->nbinteract) (0.1.7)\n",
      "Requirement already satisfied: attrs>=17.4.0 in /Users/maks/anaconda3/envs/b_opt/lib/python3.7/site-packages (from jsonschema!=2.5.0,>=2.4->nbformat<5,>=4.4.0->nbinteract) (19.1.0)\n",
      "Requirement already satisfied: pyrsistent>=0.14.0 in /Users/maks/anaconda3/envs/b_opt/lib/python3.7/site-packages (from jsonschema!=2.5.0,>=2.4->nbformat<5,>=4.4.0->nbinteract) (0.15.3)\n",
      "Requirement already satisfied: Send2Trash in /Users/maks/anaconda3/envs/b_opt/lib/python3.7/site-packages (from notebook>=4.4.1->widgetsnbextension~=3.5.0->ipywidgets<8,>=7->nbinteract) (1.5.0)\n",
      "Requirement already satisfied: pyzmq>=17 in /Users/maks/anaconda3/envs/b_opt/lib/python3.7/site-packages (from notebook>=4.4.1->widgetsnbextension~=3.5.0->ipywidgets<8,>=7->nbinteract) (18.0.2)\n",
      "Requirement already satisfied: prometheus-client in /Users/maks/anaconda3/envs/b_opt/lib/python3.7/site-packages (from notebook>=4.4.1->widgetsnbextension~=3.5.0->ipywidgets<8,>=7->nbinteract) (0.7.1)\n",
      "Requirement already satisfied: terminado>=0.8.1 in /Users/maks/anaconda3/envs/b_opt/lib/python3.7/site-packages (from notebook>=4.4.1->widgetsnbextension~=3.5.0->ipywidgets<8,>=7->nbinteract) (0.8.2)\n",
      "Installing collected packages: pytz, pandas, bqplot, docopt, nbinteract\n"
     ]
    },
    {
     "name": "stdout",
     "output_type": "stream",
     "text": [
      "Successfully installed bqplot-0.11.6 docopt-0.6.2 nbinteract-0.2.4 pandas-0.24.2 pytz-2019.1\n",
      "Note: you may need to restart the kernel to use updated packages.\n"
     ]
    }
   ],
   "source": [
    "pip install nbinteract"
   ]
  },
  {
   "cell_type": "code",
   "execution_count": null,
   "metadata": {},
   "outputs": [],
   "source": []
  }
 ],
 "metadata": {
  "kernelspec": {
   "display_name": "Python 3",
   "language": "python",
   "name": "python3"
  },
  "language_info": {
   "codemirror_mode": {
    "name": "ipython",
    "version": 3
   },
   "file_extension": ".py",
   "mimetype": "text/x-python",
   "name": "python",
   "nbconvert_exporter": "python",
   "pygments_lexer": "ipython3",
   "version": "3.7.3"
  }
 },
 "nbformat": 4,
 "nbformat_minor": 2
}
